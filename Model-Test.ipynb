{
 "cells": [
  {
   "cell_type": "code",
   "execution_count": 1,
   "id": "1031c930-1889-4028-8b48-6d8b1e4412e6",
   "metadata": {},
   "outputs": [],
   "source": [
    "from joblib import dump, load\n",
    "import numpy as np\n",
    "model = load('House-Price.joblib') "
   ]
  },
  {
   "cell_type": "code",
   "execution_count": 15,
   "id": "18a03a53-7ff2-4b04-ab7c-b5ae52b11353",
   "metadata": {},
   "outputs": [
    {
     "data": {
      "text/plain": [
       "array([21.27310817])"
      ]
     },
     "execution_count": 15,
     "metadata": {},
     "output_type": "execute_result"
    }
   ],
   "source": [
    "features = np.array([[-0.43942006,  3.12628155, -1.12165014, -0.47288841, -1.42262747,\n",
    "       -0.23979304, -11.31238772,  2.61111401, -1.0016859 , -0.5778192 ,\n",
    "       -0.97491834,  0.41164221, -0.86091034]])\n",
    "model.predict(features)"
   ]
  },
  {
   "cell_type": "code",
   "execution_count": null,
   "id": "59cf92ff-13d7-419a-bd1f-1a45d03ed295",
   "metadata": {},
   "outputs": [],
   "source": []
  }
 ],
 "metadata": {
  "kernelspec": {
   "display_name": "Python 3 (ipykernel)",
   "language": "python",
   "name": "python3"
  },
  "language_info": {
   "codemirror_mode": {
    "name": "ipython",
    "version": 3
   },
   "file_extension": ".py",
   "mimetype": "text/x-python",
   "name": "python",
   "nbconvert_exporter": "python",
   "pygments_lexer": "ipython3",
   "version": "3.11.2"
  }
 },
 "nbformat": 4,
 "nbformat_minor": 5
}
